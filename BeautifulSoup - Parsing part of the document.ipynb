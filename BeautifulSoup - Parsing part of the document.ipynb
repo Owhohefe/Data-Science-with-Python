{
 "cells": [
  {
   "cell_type": "code",
   "execution_count": 1,
   "metadata": {},
   "outputs": [],
   "source": [
    "from bs4 import BeautifulSoup"
   ]
  },
  {
   "cell_type": "code",
   "execution_count": 3,
   "metadata": {},
   "outputs": [],
   "source": [
    "data_SL = \"\"\"<ul class = 'content-col_discover'>\n",
    "<li><a href='/resources' id = 'free_resources'>Free resources</a></li>\n",
    "<li><a href='http://community.simplilearn.com/' id = 'community'>SimpliLearn community</a></li>\n",
    "<li><a href='/career-data-labs/' id = 'lab'>Career data labs</a></li>\n",
    "<li><a href='/scholarship-for-veterans/' id = 'scholarship'>Veterans Scholarship</a></li>\n",
    "<li><a href='http://simplilearn.com/feed/' id = 'rss'>RSS feed</a></li>\n",
    "</ul>\"\"\""
   ]
  },
  {
   "cell_type": "code",
   "execution_count": 4,
   "metadata": {},
   "outputs": [],
   "source": [
    "soup_SL = BeautifulSoup(data_SL,'html.parser')"
   ]
  },
  {
   "cell_type": "code",
   "execution_count": 5,
   "metadata": {},
   "outputs": [
    {
     "name": "stdout",
     "output_type": "stream",
     "text": [
      "\n",
      "Free resources\n",
      "SimpliLearn community\n",
      "Career data labs\n",
      "Veterans Scholarship\n",
      "RSS feed\n",
      "\n"
     ]
    }
   ],
   "source": [
    "print(soup_SL.get_text())"
   ]
  },
  {
   "cell_type": "code",
   "execution_count": 6,
   "metadata": {},
   "outputs": [],
   "source": [
    "from bs4 import SoupStrainer"
   ]
  },
  {
   "cell_type": "code",
   "execution_count": 7,
   "metadata": {},
   "outputs": [],
   "source": [
    "tabs_with_labid = SoupStrainer(id = 'lab')"
   ]
  },
  {
   "cell_type": "code",
   "execution_count": 8,
   "metadata": {},
   "outputs": [
    {
     "name": "stdout",
     "output_type": "stream",
     "text": [
      "<a href=\"/career-data-labs/\" id=\"lab\">\n",
      " Career data labs\n",
      "</a>\n"
     ]
    }
   ],
   "source": [
    "print(BeautifulSoup(data_SL,'html.parser',parse_only=tabs_with_labid).prettify())"
   ]
  },
  {
   "cell_type": "code",
   "execution_count": null,
   "metadata": {},
   "outputs": [],
   "source": []
  }
 ],
 "metadata": {
  "kernelspec": {
   "display_name": "Python 3",
   "language": "python",
   "name": "python3"
  },
  "language_info": {
   "codemirror_mode": {
    "name": "ipython",
    "version": 3
   },
   "file_extension": ".py",
   "mimetype": "text/x-python",
   "name": "python",
   "nbconvert_exporter": "python",
   "pygments_lexer": "ipython3",
   "version": "3.6.5"
  }
 },
 "nbformat": 4,
 "nbformat_minor": 2
}
