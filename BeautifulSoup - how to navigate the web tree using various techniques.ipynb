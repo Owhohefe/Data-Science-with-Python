{
 "cells": [
  {
   "cell_type": "code",
   "execution_count": 13,
   "metadata": {},
   "outputs": [],
   "source": [
    "from bs4 import BeautifulSoup\n",
    "book_html_doc = \"\"\" <catalogue>\n",
    "<head><title>The web book catalogue</title></head>\n",
    "<p class = \"title\"><b>The book catalogue</b></p>\n",
    "<books>\n",
    "<book id=\"bk001\">\n",
    "<author>Hightower, Kim</author>\n",
    "<title>The first book</title>\n",
    "<genre>Fiction</genre>\n",
    "<price>44.95</price>\n",
    "<pub-date>2000-10-01</pub-date>\n",
    "<review>An amazing story of nothing</review>\n",
    "</book>\n",
    "<book id=\"bk002\">\n",
    "<author>Chinua Achebe</author>\n",
    "<title>Eze goes to school</title>\n",
    "<genre>Biography</genre>\n",
    "<review>An interesting read</review>\n",
    "</book>\n",
    "<book id=\"bk003\">\n",
    "<author>Cyprian Ekwensi</author>\n",
    "<title>A collection of poems</title>\n",
    "<genre>Poem</genre>\n",
    "<price>14.99</price>\n",
    "<review>The latest poetic poems of the decade</review>\n",
    "</book>\n",
    "</books></catalogue>\"\"\""
   ]
  },
  {
   "cell_type": "code",
   "execution_count": 14,
   "metadata": {},
   "outputs": [],
   "source": [
    "book_soup = BeautifulSoup(book_html_doc,'html.parser')"
   ]
  },
  {
   "cell_type": "code",
   "execution_count": 15,
   "metadata": {},
   "outputs": [
    {
     "name": "stdout",
     "output_type": "stream",
     "text": [
      "<catalogue>\n",
      "<head><title>The web book catalogue</title></head>\n",
      "<p class=\"title\"><b>The book catalogue</b></p>\n",
      "<books>\n",
      "<book id=\"bk001\">\n",
      "<author>Hightower, Kim</author>\n",
      "<title>The first book</title>\n",
      "<genre>Fiction</genre>\n",
      "<price>44.95</price>\n",
      "<pub-date>2000-10-01</pub-date>\n",
      "<review>An amazing story of nothing</review>\n",
      "</book>\n",
      "<book id=\"bk002\">\n",
      "<author>Chinua Achebe</author>\n",
      "<title>Eze goes to school</title>\n",
      "<genre>Biography</genre>\n",
      "<review>An interesting read</review>\n",
      "</book>\n",
      "<book id=\"bk003\">\n",
      "<author>Cyprian Ekwensi</author>\n",
      "<title>A collection of poems</title>\n",
      "<genre>Poem</genre>\n",
      "<price>14.99</price>\n",
      "<review>The latest poetic poems of the decade</review>\n",
      "</book>\n",
      "</books></catalogue>\n"
     ]
    }
   ],
   "source": [
    "print(book_soup.catalogue)"
   ]
  },
  {
   "cell_type": "code",
   "execution_count": 16,
   "metadata": {},
   "outputs": [
    {
     "data": {
      "text/plain": [
       "[<title>The web book catalogue</title>]"
      ]
     },
     "execution_count": 16,
     "metadata": {},
     "output_type": "execute_result"
    }
   ],
   "source": [
    "book_soup.head()"
   ]
  },
  {
   "cell_type": "code",
   "execution_count": 17,
   "metadata": {},
   "outputs": [
    {
     "data": {
      "text/plain": [
       "<title>The web book catalogue</title>"
      ]
     },
     "execution_count": 17,
     "metadata": {},
     "output_type": "execute_result"
    }
   ],
   "source": [
    "title_tag = book_soup.title\n",
    "title_tag"
   ]
  },
  {
   "cell_type": "code",
   "execution_count": 18,
   "metadata": {},
   "outputs": [
    {
     "name": "stdout",
     "output_type": "stream",
     "text": [
      "<p class=\"title\"><b>The book catalogue</b></p>\n"
     ]
    }
   ],
   "source": [
    "print(book_soup.catalogue.p)"
   ]
  },
  {
   "cell_type": "code",
   "execution_count": 19,
   "metadata": {},
   "outputs": [
    {
     "name": "stdout",
     "output_type": "stream",
     "text": [
      "<title>The web book catalogue</title>\n",
      "The web book catalogue\n"
     ]
    }
   ],
   "source": [
    "for descen in book_soup.head.descendants:\n",
    "    print(descen)"
   ]
  },
  {
   "cell_type": "code",
   "execution_count": 20,
   "metadata": {},
   "outputs": [
    {
     "name": "stdout",
     "output_type": "stream",
     "text": [
      "'The web book catalogue'\n",
      "'The book catalogue'\n",
      "'Hightower, Kim'\n",
      "'The first book'\n",
      "'Fiction'\n",
      "'44.95'\n",
      "'2000-10-01'\n",
      "'An amazing story of nothing'\n",
      "'Chinua Achebe'\n",
      "'Eze goes to school'\n",
      "'Biography'\n",
      "'An interesting read'\n",
      "'Cyprian Ekwensi'\n",
      "'A collection of poems'\n",
      "'Poem'\n",
      "'14.99'\n",
      "'The latest poetic poems of the decade'\n"
     ]
    }
   ],
   "source": [
    "for string in book_soup.stripped_strings:\n",
    "    print(repr(string))"
   ]
  },
  {
   "cell_type": "code",
   "execution_count": 25,
   "metadata": {},
   "outputs": [
    {
     "data": {
      "text/plain": [
       "<head><title>The web book catalogue</title></head>"
      ]
     },
     "execution_count": 25,
     "metadata": {},
     "output_type": "execute_result"
    }
   ],
   "source": [
    "title_tag.parent"
   ]
  },
  {
   "cell_type": "code",
   "execution_count": 26,
   "metadata": {},
   "outputs": [],
   "source": [
    "element_soup = book_soup.catalogue.books"
   ]
  },
  {
   "cell_type": "code",
   "execution_count": 29,
   "metadata": {},
   "outputs": [],
   "source": [
    "next_element = element_soup.next_element.next_element"
   ]
  },
  {
   "cell_type": "code",
   "execution_count": 30,
   "metadata": {},
   "outputs": [
    {
     "data": {
      "text/plain": [
       "<book id=\"bk001\">\n",
       "<author>Hightower, Kim</author>\n",
       "<title>The first book</title>\n",
       "<genre>Fiction</genre>\n",
       "<price>44.95</price>\n",
       "<pub-date>2000-10-01</pub-date>\n",
       "<review>An amazing story of nothing</review>\n",
       "</book>"
      ]
     },
     "execution_count": 30,
     "metadata": {},
     "output_type": "execute_result"
    }
   ],
   "source": [
    "next_element"
   ]
  },
  {
   "cell_type": "code",
   "execution_count": 33,
   "metadata": {},
   "outputs": [],
   "source": [
    "previous_element = next_element.previous_element.previous_element"
   ]
  },
  {
   "cell_type": "code",
   "execution_count": 34,
   "metadata": {},
   "outputs": [
    {
     "data": {
      "text/plain": [
       "<books>\n",
       "<book id=\"bk001\">\n",
       "<author>Hightower, Kim</author>\n",
       "<title>The first book</title>\n",
       "<genre>Fiction</genre>\n",
       "<price>44.95</price>\n",
       "<pub-date>2000-10-01</pub-date>\n",
       "<review>An amazing story of nothing</review>\n",
       "</book>\n",
       "<book id=\"bk002\">\n",
       "<author>Chinua Achebe</author>\n",
       "<title>Eze goes to school</title>\n",
       "<genre>Biography</genre>\n",
       "<review>An interesting read</review>\n",
       "</book>\n",
       "<book id=\"bk003\">\n",
       "<author>Cyprian Ekwensi</author>\n",
       "<title>A collection of poems</title>\n",
       "<genre>Poem</genre>\n",
       "<price>14.99</price>\n",
       "<review>The latest poetic poems of the decade</review>\n",
       "</book>\n",
       "</books>"
      ]
     },
     "execution_count": 34,
     "metadata": {},
     "output_type": "execute_result"
    }
   ],
   "source": [
    "previous_element"
   ]
  },
  {
   "cell_type": "code",
   "execution_count": 35,
   "metadata": {},
   "outputs": [],
   "source": [
    "next_sibling = book_soup.catalogue.books.book"
   ]
  },
  {
   "cell_type": "code",
   "execution_count": 36,
   "metadata": {},
   "outputs": [
    {
     "data": {
      "text/plain": [
       "<book id=\"bk001\">\n",
       "<author>Hightower, Kim</author>\n",
       "<title>The first book</title>\n",
       "<genre>Fiction</genre>\n",
       "<price>44.95</price>\n",
       "<pub-date>2000-10-01</pub-date>\n",
       "<review>An amazing story of nothing</review>\n",
       "</book>"
      ]
     },
     "execution_count": 36,
     "metadata": {},
     "output_type": "execute_result"
    }
   ],
   "source": [
    "next_sibling"
   ]
  },
  {
   "cell_type": "code",
   "execution_count": 39,
   "metadata": {},
   "outputs": [
    {
     "data": {
      "text/plain": [
       "<book id=\"bk002\">\n",
       "<author>Chinua Achebe</author>\n",
       "<title>Eze goes to school</title>\n",
       "<genre>Biography</genre>\n",
       "<review>An interesting read</review>\n",
       "</book>"
      ]
     },
     "execution_count": 39,
     "metadata": {},
     "output_type": "execute_result"
    }
   ],
   "source": [
    "next_sibling2 = next_sibling.next_sibling.next_sibling\n",
    "next_sibling2"
   ]
  },
  {
   "cell_type": "code",
   "execution_count": 40,
   "metadata": {},
   "outputs": [
    {
     "data": {
      "text/plain": [
       "<book id=\"bk001\">\n",
       "<author>Hightower, Kim</author>\n",
       "<title>The first book</title>\n",
       "<genre>Fiction</genre>\n",
       "<price>44.95</price>\n",
       "<pub-date>2000-10-01</pub-date>\n",
       "<review>An amazing story of nothing</review>\n",
       "</book>"
      ]
     },
     "execution_count": 40,
     "metadata": {},
     "output_type": "execute_result"
    }
   ],
   "source": [
    "previous_sibling = next_sibling2.previous_sibling.previous_sibling\n",
    "previous_sibling"
   ]
  },
  {
   "cell_type": "code",
   "execution_count": null,
   "metadata": {},
   "outputs": [],
   "source": []
  }
 ],
 "metadata": {
  "kernelspec": {
   "display_name": "Python 3",
   "language": "python",
   "name": "python3"
  },
  "language_info": {
   "codemirror_mode": {
    "name": "ipython",
    "version": 3
   },
   "file_extension": ".py",
   "mimetype": "text/x-python",
   "name": "python",
   "nbconvert_exporter": "python",
   "pygments_lexer": "ipython3",
   "version": "3.6.5"
  }
 },
 "nbformat": 4,
 "nbformat_minor": 2
}
