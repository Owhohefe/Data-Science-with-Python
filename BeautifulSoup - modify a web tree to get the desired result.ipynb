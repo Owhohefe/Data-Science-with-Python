{
 "cells": [
  {
   "cell_type": "code",
   "execution_count": 1,
   "metadata": {},
   "outputs": [],
   "source": [
    "from bs4 import BeautifulSoup"
   ]
  },
  {
   "cell_type": "code",
   "execution_count": 2,
   "metadata": {},
   "outputs": [],
   "source": [
    "employee_html_doc = \"\"\"<employees>\n",
    "<employee class=\"accountant\">\n",
    "    <firstname>John</firstname><lastname>Doe</lastname>\n",
    "</employee>\n",
    "<employee class=\"manager\">\n",
    "    <firstname>Anna</firstname><lastname>Smith</lastname>\n",
    "</employee>\n",
    "<employee class=\"developer\">\n",
    "    <firstname>Peter</firstname><lastname>James</lastname>\n",
    "</employee>\n",
    "</employees>\"\"\""
   ]
  },
  {
   "cell_type": "code",
   "execution_count": 4,
   "metadata": {},
   "outputs": [],
   "source": [
    "soup_emp = BeautifulSoup(employee_html_doc,'html.parser')"
   ]
  },
  {
   "cell_type": "code",
   "execution_count": 7,
   "metadata": {},
   "outputs": [],
   "source": [
    "employee_tag = soup_emp.employee"
   ]
  },
  {
   "cell_type": "code",
   "execution_count": 8,
   "metadata": {},
   "outputs": [
    {
     "data": {
      "text/plain": [
       "<employee class=\"accountant\">\n",
       "<firstname>John</firstname><lastname>Doe</lastname>\n",
       "</employee>"
      ]
     },
     "execution_count": 8,
     "metadata": {},
     "output_type": "execute_result"
    }
   ],
   "source": [
    "employee_tag"
   ]
  },
  {
   "cell_type": "code",
   "execution_count": 10,
   "metadata": {},
   "outputs": [],
   "source": [
    "employee_tag['class'] = 'manager'"
   ]
  },
  {
   "cell_type": "code",
   "execution_count": 11,
   "metadata": {},
   "outputs": [
    {
     "data": {
      "text/plain": [
       "<employee class=\"manager\">\n",
       "<firstname>John</firstname><lastname>Doe</lastname>\n",
       "</employee>"
      ]
     },
     "execution_count": 11,
     "metadata": {},
     "output_type": "execute_result"
    }
   ],
   "source": [
    "employee_tag"
   ]
  },
  {
   "cell_type": "code",
   "execution_count": 12,
   "metadata": {},
   "outputs": [
    {
     "data": {
      "text/plain": [
       "<employees>\n",
       "<employee class=\"manager\">\n",
       "<firstname>John</firstname><lastname>Doe</lastname>\n",
       "</employee>\n",
       "<employee class=\"manager\">\n",
       "<firstname>Anna</firstname><lastname>Smith</lastname>\n",
       "</employee>\n",
       "<employee class=\"developer\">\n",
       "<firstname>Peter</firstname><lastname>James</lastname>\n",
       "</employee>\n",
       "</employees>"
      ]
     },
     "execution_count": 12,
     "metadata": {},
     "output_type": "execute_result"
    }
   ],
   "source": [
    "soup_emp"
   ]
  },
  {
   "cell_type": "code",
   "execution_count": 13,
   "metadata": {},
   "outputs": [],
   "source": [
    "employee_tag = soup_emp.new_tag('rank')"
   ]
  },
  {
   "cell_type": "code",
   "execution_count": 14,
   "metadata": {},
   "outputs": [
    {
     "data": {
      "text/plain": [
       "<rank></rank>"
      ]
     },
     "execution_count": 14,
     "metadata": {},
     "output_type": "execute_result"
    }
   ],
   "source": [
    "employee_tag"
   ]
  },
  {
   "cell_type": "code",
   "execution_count": 15,
   "metadata": {},
   "outputs": [
    {
     "data": {
      "text/plain": [
       "<employees>\n",
       "<employee class=\"manager\">\n",
       "<firstname>John</firstname><lastname>Doe</lastname>\n",
       "</employee>\n",
       "<employee class=\"manager\">\n",
       "<firstname>Anna</firstname><lastname>Smith</lastname>\n",
       "</employee>\n",
       "<employee class=\"developer\">\n",
       "<firstname>Peter</firstname><lastname>James</lastname>\n",
       "</employee>\n",
       "</employees>"
      ]
     },
     "execution_count": 15,
     "metadata": {},
     "output_type": "execute_result"
    }
   ],
   "source": [
    "soup_emp"
   ]
  },
  {
   "cell_type": "code",
   "execution_count": 17,
   "metadata": {},
   "outputs": [],
   "source": [
    "employee_tag.string = 'manager 1'"
   ]
  },
  {
   "cell_type": "code",
   "execution_count": 18,
   "metadata": {},
   "outputs": [],
   "source": [
    "soup_emp.employees.employee.insert_after(employee_tag)"
   ]
  },
  {
   "cell_type": "code",
   "execution_count": 19,
   "metadata": {},
   "outputs": [
    {
     "data": {
      "text/plain": [
       "<employees>\n",
       "<employee class=\"manager\">\n",
       "<firstname>John</firstname><lastname>Doe</lastname>\n",
       "</employee><rank>manager 1</rank>\n",
       "<employee class=\"manager\">\n",
       "<firstname>Anna</firstname><lastname>Smith</lastname>\n",
       "</employee>\n",
       "<employee class=\"developer\">\n",
       "<firstname>Peter</firstname><lastname>James</lastname>\n",
       "</employee>\n",
       "</employees>"
      ]
     },
     "execution_count": 19,
     "metadata": {},
     "output_type": "execute_result"
    }
   ],
   "source": [
    "soup_emp"
   ]
  },
  {
   "cell_type": "code",
   "execution_count": 20,
   "metadata": {},
   "outputs": [],
   "source": [
    "employee_tag.clear()"
   ]
  },
  {
   "cell_type": "code",
   "execution_count": 21,
   "metadata": {},
   "outputs": [
    {
     "name": "stdout",
     "output_type": "stream",
     "text": [
      "<employees>\n",
      "<employee class=\"manager\">\n",
      "<firstname>John</firstname><lastname>Doe</lastname>\n",
      "</employee><rank></rank>\n",
      "<employee class=\"manager\">\n",
      "<firstname>Anna</firstname><lastname>Smith</lastname>\n",
      "</employee>\n",
      "<employee class=\"developer\">\n",
      "<firstname>Peter</firstname><lastname>James</lastname>\n",
      "</employee>\n",
      "</employees>\n"
     ]
    }
   ],
   "source": [
    "print(soup_emp)"
   ]
  },
  {
   "cell_type": "code",
   "execution_count": 22,
   "metadata": {},
   "outputs": [],
   "source": [
    "tag = soup_emp.employees.employee"
   ]
  },
  {
   "cell_type": "code",
   "execution_count": 23,
   "metadata": {},
   "outputs": [
    {
     "data": {
      "text/plain": [
       "<employee class=\"manager\">\n",
       "<firstname>John</firstname><lastname>Doe</lastname>\n",
       "</employee>"
      ]
     },
     "execution_count": 23,
     "metadata": {},
     "output_type": "execute_result"
    }
   ],
   "source": [
    "tag"
   ]
  },
  {
   "cell_type": "code",
   "execution_count": 24,
   "metadata": {},
   "outputs": [],
   "source": [
    "tag['class'] = 'accountant'"
   ]
  },
  {
   "cell_type": "code",
   "execution_count": 25,
   "metadata": {},
   "outputs": [
    {
     "data": {
      "text/plain": [
       "<employee class=\"accountant\">\n",
       "<firstname>John</firstname><lastname>Doe</lastname>\n",
       "</employee>"
      ]
     },
     "execution_count": 25,
     "metadata": {},
     "output_type": "execute_result"
    }
   ],
   "source": [
    "tag"
   ]
  },
  {
   "cell_type": "code",
   "execution_count": 26,
   "metadata": {},
   "outputs": [
    {
     "data": {
      "text/plain": [
       "'John'"
      ]
     },
     "execution_count": 26,
     "metadata": {},
     "output_type": "execute_result"
    }
   ],
   "source": [
    "tag.firstname.string.extract()"
   ]
  },
  {
   "cell_type": "code",
   "execution_count": 27,
   "metadata": {},
   "outputs": [
    {
     "data": {
      "text/plain": [
       "<firstname></firstname>"
      ]
     },
     "execution_count": 27,
     "metadata": {},
     "output_type": "execute_result"
    }
   ],
   "source": [
    "tag.firstname.replace_with(\"abike\")"
   ]
  },
  {
   "cell_type": "code",
   "execution_count": 28,
   "metadata": {},
   "outputs": [
    {
     "data": {
      "text/plain": [
       "<employees>\n",
       "<employee class=\"accountant\">\n",
       "abike<lastname>Doe</lastname>\n",
       "</employee><rank></rank>\n",
       "<employee class=\"manager\">\n",
       "<firstname>Anna</firstname><lastname>Smith</lastname>\n",
       "</employee>\n",
       "<employee class=\"developer\">\n",
       "<firstname>Peter</firstname><lastname>James</lastname>\n",
       "</employee>\n",
       "</employees>"
      ]
     },
     "execution_count": 28,
     "metadata": {},
     "output_type": "execute_result"
    }
   ],
   "source": [
    "soup_emp"
   ]
  },
  {
   "cell_type": "code",
   "execution_count": null,
   "metadata": {},
   "outputs": [],
   "source": []
  }
 ],
 "metadata": {
  "kernelspec": {
   "display_name": "Python 3",
   "language": "python",
   "name": "python3"
  },
  "language_info": {
   "codemirror_mode": {
    "name": "ipython",
    "version": 3
   },
   "file_extension": ".py",
   "mimetype": "text/x-python",
   "name": "python",
   "nbconvert_exporter": "python",
   "pygments_lexer": "ipython3",
   "version": "3.6.5"
  }
 },
 "nbformat": 4,
 "nbformat_minor": 2
}
