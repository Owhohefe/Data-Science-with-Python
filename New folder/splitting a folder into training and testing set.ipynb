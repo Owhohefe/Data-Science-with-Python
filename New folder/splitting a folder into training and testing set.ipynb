{
 "cells": [
  {
   "cell_type": "code",
   "execution_count": 1,
   "metadata": {},
   "outputs": [],
   "source": [
    "from __future__ import absolute_import\n",
    "from __future__ import division\n",
    "from __future__ import print_function\n",
    "\n",
    "import os\n",
    "import sys\n",
    "import tarfile\n",
    "from six.moves import urllib\n",
    "from glob import glob\n",
    "import random\n",
    "import shutil\n",
    "\n",
    "import tensorflow as tf\n",
    "import numpy as np\n",
    "import matplotlib\n",
    "import matplotlib.pyplot as plt"
   ]
  },
  {
   "cell_type": "code",
   "execution_count": 2,
   "metadata": {},
   "outputs": [],
   "source": [
    "def download_and_uncompress_tarball(tarball_url, dataset_dir):\n",
    "    \"\"\"Downloads the `tarball_url` and uncompresses it locally.\n",
    "    Args:\n",
    "    tarball_url: The URL of a tarball file.\n",
    "    dataset_dir: The directory where the temporary files are stored.\n",
    "    \"\"\"\n",
    "    filename = tarball_url.split('/')[-1]\n",
    "    filepath = os.path.join(dataset_dir, filename)\n",
    "\n",
    "    def _progress(count, block_size, total_size):\n",
    "        sys.stdout.write('\\r>> Downloading %s %.1f%%' % (\n",
    "            filename, float(count * block_size) / float(total_size) * 100.0))\n",
    "        sys.stdout.flush()\n",
    "\n",
    "    filepath, _ = urllib.request.urlretrieve(tarball_url, filepath, _progress)\n",
    "    print()\n",
    "    statinfo = os.stat(filepath)\n",
    "    print('Successfully downloaded', filename, statinfo.st_size, 'bytes.')\n",
    "    tarfile.open(filepath, 'r:gz').extractall(dataset_dir)"
   ]
  },
  {
   "cell_type": "code",
   "execution_count": 3,
   "metadata": {},
   "outputs": [],
   "source": [
    "DATA_URL = \"http://download.tensorflow.org/example_images/flower_photos.tgz\"\n",
    "BASE_DIR = \"C:/Users/oekpom/Desktop/Learning/Data_Science\""
   ]
  },
  {
   "cell_type": "code",
   "execution_count": 5,
   "metadata": {},
   "outputs": [
    {
     "name": "stdout",
     "output_type": "stream",
     "text": [
      ">> Downloading flower_photos.tgz 100.0%\n",
      "Successfully downloaded flower_photos.tgz 228813984 bytes.\n"
     ]
    }
   ],
   "source": [
    "download_and_uncompress_tarball(DATA_URL, BASE_DIR)"
   ]
  },
  {
   "cell_type": "code",
   "execution_count": 6,
   "metadata": {},
   "outputs": [],
   "source": [
    "def load_data_files(base_dir):\n",
    "    RAW_DATASET = os.path.join(base_dir,\"flower_photos\")\n",
    "\n",
    "    #sub_dir = map(lambda d: os.path.basename(d.rstrip(\"/\")), glob(os.path.join(RAW_DATASET,'*/')))\n",
    "    sub_dir = ['daisy','dandelion','roses','sunflowers','tulips']\n",
    "\n",
    "    data_dic = {}\n",
    "    for class_name  in sub_dir:\n",
    "        imgs = glob(os.path.join(RAW_DATASET,class_name,\"*.jpg\"))\n",
    "\n",
    "        data_dic[class_name] = imgs\n",
    "        print(\"Class: {}\".format(class_name))\n",
    "        print(\"Number of images: {} \\n\".format(len(imgs)))\n",
    "\n",
    "    return data_dic"
   ]
  },
  {
   "cell_type": "code",
   "execution_count": 7,
   "metadata": {},
   "outputs": [
    {
     "name": "stdout",
     "output_type": "stream",
     "text": [
      "Class: daisy\n",
      "Number of images: 633 \n",
      "\n",
      "Class: dandelion\n",
      "Number of images: 898 \n",
      "\n",
      "Class: roses\n",
      "Number of images: 641 \n",
      "\n",
      "Class: sunflowers\n",
      "Number of images: 699 \n",
      "\n",
      "Class: tulips\n",
      "Number of images: 799 \n",
      "\n"
     ]
    }
   ],
   "source": [
    "data_dic = load_data_files(BASE_DIR)"
   ]
  },
  {
   "cell_type": "code",
   "execution_count": 8,
   "metadata": {},
   "outputs": [],
   "source": [
    "def plot_image_grid(images_files):\n",
    "    # figure size\n",
    "    fig = plt.figure(figsize=(8, 8))\n",
    "\n",
    "    # load images\n",
    "    images = [tf.contrib.keras.preprocessing.image.load_img(img) for img in images_files]\n",
    "\n",
    "    # plot image grid\n",
    "    for x in range(4):\n",
    "        for y in range(4):\n",
    "            ax = fig.add_subplot(4, 4, 4*y+x+1)\n",
    "            plt.imshow(images[4*y+x])\n",
    "            plt.xticks(np.array([]))\n",
    "            plt.yticks(np.array([]))\n",
    "    plt.show()"
   ]
  },
  {
   "cell_type": "code",
   "execution_count": 9,
   "metadata": {},
   "outputs": [
    {
     "name": "stdout",
     "output_type": "stream",
     "text": [
      "Flower type: daisy\n"
     ]
    },
    {
     "ename": "AttributeError",
     "evalue": "module 'tensorflow' has no attribute 'contrib'",
     "output_type": "error",
     "traceback": [
      "\u001b[1;31m---------------------------------------------------------------------------\u001b[0m",
      "\u001b[1;31mAttributeError\u001b[0m                            Traceback (most recent call last)",
      "\u001b[1;32m<ipython-input-9-1faa65b0a4c9>\u001b[0m in \u001b[0;36m<module>\u001b[1;34m\u001b[0m\n\u001b[0;32m      1\u001b[0m \u001b[1;32mfor\u001b[0m \u001b[0mclass_name\u001b[0m\u001b[1;33m,\u001b[0m \u001b[0mimgs\u001b[0m \u001b[1;32min\u001b[0m \u001b[0mdata_dic\u001b[0m\u001b[1;33m.\u001b[0m\u001b[0mitems\u001b[0m\u001b[1;33m(\u001b[0m\u001b[1;33m)\u001b[0m\u001b[1;33m:\u001b[0m\u001b[1;33m\u001b[0m\u001b[0m\n\u001b[0;32m      2\u001b[0m     \u001b[0mprint\u001b[0m\u001b[1;33m(\u001b[0m\u001b[1;34m\"Flower type: {}\"\u001b[0m\u001b[1;33m.\u001b[0m\u001b[0mformat\u001b[0m\u001b[1;33m(\u001b[0m\u001b[0mclass_name\u001b[0m\u001b[1;33m)\u001b[0m\u001b[1;33m)\u001b[0m\u001b[1;33m\u001b[0m\u001b[0m\n\u001b[1;32m----> 3\u001b[1;33m     \u001b[0mplot_image_grid\u001b[0m\u001b[1;33m(\u001b[0m\u001b[0mimgs\u001b[0m\u001b[1;33m[\u001b[0m\u001b[1;33m:\u001b[0m\u001b[1;36m16\u001b[0m\u001b[1;33m]\u001b[0m\u001b[1;33m)\u001b[0m\u001b[1;33m\u001b[0m\u001b[0m\n\u001b[0m",
      "\u001b[1;32m<ipython-input-8-b3016298feab>\u001b[0m in \u001b[0;36mplot_image_grid\u001b[1;34m(images_files)\u001b[0m\n\u001b[0;32m      4\u001b[0m \u001b[1;33m\u001b[0m\u001b[0m\n\u001b[0;32m      5\u001b[0m     \u001b[1;31m# load images\u001b[0m\u001b[1;33m\u001b[0m\u001b[1;33m\u001b[0m\u001b[0m\n\u001b[1;32m----> 6\u001b[1;33m     \u001b[0mimages\u001b[0m \u001b[1;33m=\u001b[0m \u001b[1;33m[\u001b[0m\u001b[0mtf\u001b[0m\u001b[1;33m.\u001b[0m\u001b[0mcontrib\u001b[0m\u001b[1;33m.\u001b[0m\u001b[0mkeras\u001b[0m\u001b[1;33m.\u001b[0m\u001b[0mpreprocessing\u001b[0m\u001b[1;33m.\u001b[0m\u001b[0mimage\u001b[0m\u001b[1;33m.\u001b[0m\u001b[0mload_img\u001b[0m\u001b[1;33m(\u001b[0m\u001b[0mimg\u001b[0m\u001b[1;33m)\u001b[0m \u001b[1;32mfor\u001b[0m \u001b[0mimg\u001b[0m \u001b[1;32min\u001b[0m \u001b[0mimages_files\u001b[0m\u001b[1;33m]\u001b[0m\u001b[1;33m\u001b[0m\u001b[0m\n\u001b[0m\u001b[0;32m      7\u001b[0m \u001b[1;33m\u001b[0m\u001b[0m\n\u001b[0;32m      8\u001b[0m     \u001b[1;31m# plot image grid\u001b[0m\u001b[1;33m\u001b[0m\u001b[1;33m\u001b[0m\u001b[0m\n",
      "\u001b[1;32m<ipython-input-8-b3016298feab>\u001b[0m in \u001b[0;36m<listcomp>\u001b[1;34m(.0)\u001b[0m\n\u001b[0;32m      4\u001b[0m \u001b[1;33m\u001b[0m\u001b[0m\n\u001b[0;32m      5\u001b[0m     \u001b[1;31m# load images\u001b[0m\u001b[1;33m\u001b[0m\u001b[1;33m\u001b[0m\u001b[0m\n\u001b[1;32m----> 6\u001b[1;33m     \u001b[0mimages\u001b[0m \u001b[1;33m=\u001b[0m \u001b[1;33m[\u001b[0m\u001b[0mtf\u001b[0m\u001b[1;33m.\u001b[0m\u001b[0mcontrib\u001b[0m\u001b[1;33m.\u001b[0m\u001b[0mkeras\u001b[0m\u001b[1;33m.\u001b[0m\u001b[0mpreprocessing\u001b[0m\u001b[1;33m.\u001b[0m\u001b[0mimage\u001b[0m\u001b[1;33m.\u001b[0m\u001b[0mload_img\u001b[0m\u001b[1;33m(\u001b[0m\u001b[0mimg\u001b[0m\u001b[1;33m)\u001b[0m \u001b[1;32mfor\u001b[0m \u001b[0mimg\u001b[0m \u001b[1;32min\u001b[0m \u001b[0mimages_files\u001b[0m\u001b[1;33m]\u001b[0m\u001b[1;33m\u001b[0m\u001b[0m\n\u001b[0m\u001b[0;32m      7\u001b[0m \u001b[1;33m\u001b[0m\u001b[0m\n\u001b[0;32m      8\u001b[0m     \u001b[1;31m# plot image grid\u001b[0m\u001b[1;33m\u001b[0m\u001b[1;33m\u001b[0m\u001b[0m\n",
      "\u001b[1;31mAttributeError\u001b[0m: module 'tensorflow' has no attribute 'contrib'"
     ]
    },
    {
     "data": {
      "text/plain": [
       "<Figure size 576x576 with 0 Axes>"
      ]
     },
     "metadata": {},
     "output_type": "display_data"
    }
   ],
   "source": [
    "for class_name, imgs in data_dic.items():\n",
    "    print(\"Flower type: {}\".format(class_name))\n",
    "    plot_image_grid(imgs[:16])"
   ]
  },
  {
   "cell_type": "code",
   "execution_count": 10,
   "metadata": {},
   "outputs": [],
   "source": [
    "def copy_files_to_directory(files, directory):\n",
    "    if not os.path.exists(directory):\n",
    "        os.makedirs(directory)\n",
    "        print(\"Created directory: {}\".format(directory))\n",
    "\n",
    "    for f in files:\n",
    "        shutil.copy(f, directory)\n",
    "    print(\"Copied {} files.\\n\".format(len(files)))"
   ]
  },
  {
   "cell_type": "code",
   "execution_count": 11,
   "metadata": {},
   "outputs": [],
   "source": [
    "def train_validation_split(base_dir, data_dic, split_ratio=0.2):\n",
    "    FLOWER_DATASET = os.path.join(base_dir,\"flower_dataset\")\n",
    "\n",
    "    if not os.path.exists(FLOWER_DATASET):\n",
    "        os.makedirs(FLOWER_DATASET)\n",
    "\n",
    "    for class_name, imgs in data_dic.items():\n",
    "        idx_split = int(len(imgs) * split_ratio)\n",
    "        random.shuffle(imgs)\n",
    "        validation = imgs[:idx_split]\n",
    "        train = imgs[idx_split:]\n",
    "\n",
    "        copy_files_to_directory(train, os.path.join(FLOWER_DATASET,\"train\",class_name))\n",
    "        copy_files_to_directory(validation, os.path.join(FLOWER_DATASET,\"validation\",class_name))"
   ]
  },
  {
   "cell_type": "code",
   "execution_count": 12,
   "metadata": {},
   "outputs": [
    {
     "name": "stdout",
     "output_type": "stream",
     "text": [
      "Created directory: C:/Users/oekpom/Desktop/Learning/Data_Science\\flower_dataset\\train\\daisy\n",
      "Copied 507 files.\n",
      "\n",
      "Created directory: C:/Users/oekpom/Desktop/Learning/Data_Science\\flower_dataset\\validation\\daisy\n",
      "Copied 126 files.\n",
      "\n",
      "Created directory: C:/Users/oekpom/Desktop/Learning/Data_Science\\flower_dataset\\train\\dandelion\n",
      "Copied 719 files.\n",
      "\n",
      "Created directory: C:/Users/oekpom/Desktop/Learning/Data_Science\\flower_dataset\\validation\\dandelion\n",
      "Copied 179 files.\n",
      "\n",
      "Created directory: C:/Users/oekpom/Desktop/Learning/Data_Science\\flower_dataset\\train\\roses\n",
      "Copied 513 files.\n",
      "\n",
      "Created directory: C:/Users/oekpom/Desktop/Learning/Data_Science\\flower_dataset\\validation\\roses\n",
      "Copied 128 files.\n",
      "\n",
      "Created directory: C:/Users/oekpom/Desktop/Learning/Data_Science\\flower_dataset\\train\\sunflowers\n",
      "Copied 560 files.\n",
      "\n",
      "Created directory: C:/Users/oekpom/Desktop/Learning/Data_Science\\flower_dataset\\validation\\sunflowers\n",
      "Copied 139 files.\n",
      "\n",
      "Created directory: C:/Users/oekpom/Desktop/Learning/Data_Science\\flower_dataset\\train\\tulips\n",
      "Copied 640 files.\n",
      "\n",
      "Created directory: C:/Users/oekpom/Desktop/Learning/Data_Science\\flower_dataset\\validation\\tulips\n",
      "Copied 159 files.\n",
      "\n"
     ]
    }
   ],
   "source": [
    "train_validation_split(BASE_DIR, data_dic, split_ratio=0.2)"
   ]
  },
  {
   "cell_type": "code",
   "execution_count": null,
   "metadata": {},
   "outputs": [],
   "source": []
  }
 ],
 "metadata": {
  "kernelspec": {
   "display_name": "Python 3",
   "language": "python",
   "name": "python3"
  },
  "language_info": {
   "codemirror_mode": {
    "name": "ipython",
    "version": 3
   },
   "file_extension": ".py",
   "mimetype": "text/x-python",
   "name": "python",
   "nbconvert_exporter": "python",
   "pygments_lexer": "ipython3",
   "version": "3.6.5"
  }
 },
 "nbformat": 4,
 "nbformat_minor": 2
}
