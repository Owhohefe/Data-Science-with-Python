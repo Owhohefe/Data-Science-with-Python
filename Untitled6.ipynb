{
 "cells": [
  {
   "cell_type": "code",
   "execution_count": 7,
   "metadata": {},
   "outputs": [],
   "source": [
    "import numpy as np"
   ]
  },
  {
   "cell_type": "code",
   "execution_count": 8,
   "metadata": {},
   "outputs": [],
   "source": [
    "List_of_countries = ['Algeria','Angola','Argentina','Australia','Austria','Bahamas','Bangladesh','Belarus','Belgium','Bhutan','Brazil','Bulgaria','Cambodia','Cameroon','Chile','China','Colombia','Cyprus','Denmark','El Salvador','Estonia','Ethiopia','Fiji','Finland','France','Georgia','Ghana','Grenada','Guinea','Haiti','Honduras','Hungary','India','Indonesia','Ireland','Italy','Japan','Kenya', 'South Korea','Liberia','Malaysia','Mexico', 'Morocco','Nepal','New Zealand','Norway','Pakistan', 'Peru','Qatar','Russia','Singapore','South Africa','Spain','Sweden','Switzerland','Thailand', 'United Arab Emirates','United Kingdom','United States','Uruguay','Venezuela','Vietnam','Zimbabwe']\n",
    "GDP_values_for_each_country = [2255.225482,629.9553062,11601.63022,25306.82494,27266.40335,19466.99052,588.3691778,2890.345675,24733.62696,1445.760002,4803.398244,2618.876037,590.4521124,665.7982328,7122.938458,2639.54156,3362.4656,15378.16704,30860.12808,2579.115607,6525.541272,229.6769525,2242.689259,27570.4852,23016.84778,1334.646773,402.6953275,6047.200797,394.1156638,385.5793827,1414.072488,5745.981529,837.7464011,1206.991065,27715.52837,18937.24998,39578.07441,478.2194906,16684.21278,279.2204061,5345.213415,6288.25324,1908.304416,274.8728621,14646.42094,40034.85063,672.1547506,3359.517402,36152.66676,3054.727742,33529.83052,3825.093781,15428.32098,33630.24604,39170.41371,2699.123242,21058.43643,28272.40661,37691.02733,9581.05659,5671.912202,757.4009286,347.7456605]"
   ]
  },
  {
   "cell_type": "code",
   "execution_count": 9,
   "metadata": {},
   "outputs": [],
   "source": [
    "np_Countries = np.array(List_of_countries)\n",
    "np_GDP = np.array(GDP_values_for_each_country)"
   ]
  },
  {
   "cell_type": "code",
   "execution_count": 13,
   "metadata": {},
   "outputs": [
    {
     "data": {
      "text/plain": [
       "'Norway'"
      ]
     },
     "execution_count": 13,
     "metadata": {},
     "output_type": "execute_result"
    }
   ],
   "source": [
    "Country_High_GDP = np.argmax(np_GDP)\n",
    "np_Countries[Country_High_GDP]"
   ]
  },
  {
   "cell_type": "code",
   "execution_count": 14,
   "metadata": {},
   "outputs": [
    {
     "data": {
      "text/plain": [
       "'Ethiopia'"
      ]
     },
     "execution_count": 14,
     "metadata": {},
     "output_type": "execute_result"
    }
   ],
   "source": [
    "Country_Low_GDP = np.argmin(np_GDP)\n",
    "np_Countries[Country_Low_GDP]"
   ]
  },
  {
   "cell_type": "code",
   "execution_count": 17,
   "metadata": {},
   "outputs": [
    {
     "name": "stdout",
     "output_type": "stream",
     "text": [
      "Name of Country: Algeria\n",
      "Name of Country: Angola\n",
      "Name of Country: Argentina\n",
      "Name of Country: Australia\n",
      "Name of Country: Austria\n",
      "Name of Country: Bahamas\n",
      "Name of Country: Bangladesh\n",
      "Name of Country: Belarus\n",
      "Name of Country: Belgium\n",
      "Name of Country: Bhutan\n",
      "Name of Country: Brazil\n",
      "Name of Country: Bulgaria\n",
      "Name of Country: Cambodia\n",
      "Name of Country: Cameroon\n",
      "Name of Country: Chile\n",
      "Name of Country: China\n",
      "Name of Country: Colombia\n",
      "Name of Country: Cyprus\n",
      "Name of Country: Denmark\n",
      "Name of Country: El Salvador\n",
      "Name of Country: Estonia\n",
      "Name of Country: Ethiopia\n",
      "Name of Country: Fiji\n",
      "Name of Country: Finland\n",
      "Name of Country: France\n",
      "Name of Country: Georgia\n",
      "Name of Country: Ghana\n",
      "Name of Country: Grenada\n",
      "Name of Country: Guinea\n",
      "Name of Country: Haiti\n",
      "Name of Country: Honduras\n",
      "Name of Country: Hungary\n",
      "Name of Country: India\n",
      "Name of Country: Indonesia\n",
      "Name of Country: Ireland\n",
      "Name of Country: Italy\n",
      "Name of Country: Japan\n",
      "Name of Country: Kenya\n",
      "Name of Country: South Korea\n",
      "Name of Country: Liberia\n",
      "Name of Country: Malaysia\n",
      "Name of Country: Mexico\n",
      "Name of Country: Morocco\n",
      "Name of Country: Nepal\n",
      "Name of Country: New Zealand\n",
      "Name of Country: Norway\n",
      "Name of Country: Pakistan\n",
      "Name of Country: Peru\n",
      "Name of Country: Qatar\n",
      "Name of Country: Russia\n",
      "Name of Country: Singapore\n",
      "Name of Country: South Africa\n",
      "Name of Country: Spain\n",
      "Name of Country: Sweden\n",
      "Name of Country: Switzerland\n",
      "Name of Country: Thailand\n",
      "Name of Country: United Arab Emirates\n",
      "Name of Country: United Kingdom\n",
      "Name of Country: United States\n",
      "Name of Country: Uruguay\n",
      "Name of Country: Venezuela\n",
      "Name of Country: Vietnam\n",
      "Name of Country: Zimbabwe\n"
     ]
    }
   ],
   "source": [
    "for country in np_Countries:\n",
    "    print('Name of Country: {}'.format(country))"
   ]
  },
  {
   "cell_type": "code",
   "execution_count": 23,
   "metadata": {},
   "outputs": [
    {
     "name": "stdout",
     "output_type": "stream",
     "text": [
      "Algeria ---> 2255.225482\n",
      "Angola ---> 629.9553062\n",
      "Argentina ---> 11601.63022\n",
      "Australia ---> 25306.82494\n",
      "Austria ---> 27266.40335\n",
      "Bahamas ---> 19466.99052\n",
      "Bangladesh ---> 588.3691778\n",
      "Belarus ---> 2890.345675\n",
      "Belgium ---> 24733.62696\n",
      "Bhutan ---> 1445.760002\n",
      "Brazil ---> 4803.398244\n",
      "Bulgaria ---> 2618.876037\n",
      "Cambodia ---> 590.4521124\n",
      "Cameroon ---> 665.7982328\n",
      "Chile ---> 7122.938458\n",
      "China ---> 2639.54156\n",
      "Colombia ---> 3362.4656\n",
      "Cyprus ---> 15378.16704\n",
      "Denmark ---> 30860.12808\n",
      "El Salvador ---> 2579.115607\n",
      "Estonia ---> 6525.541272\n",
      "Ethiopia ---> 229.6769525\n",
      "Fiji ---> 2242.689259\n",
      "Finland ---> 27570.4852\n",
      "France ---> 23016.84778\n",
      "Georgia ---> 1334.646773\n",
      "Ghana ---> 402.6953275\n",
      "Grenada ---> 6047.200797\n",
      "Guinea ---> 394.1156638\n",
      "Haiti ---> 385.5793827\n",
      "Honduras ---> 1414.072488\n",
      "Hungary ---> 5745.981529\n",
      "India ---> 837.7464011\n",
      "Indonesia ---> 1206.991065\n",
      "Ireland ---> 27715.52837\n",
      "Italy ---> 18937.24998\n",
      "Japan ---> 39578.07441\n",
      "Kenya ---> 478.2194906\n",
      "South Korea ---> 16684.21278\n",
      "Liberia ---> 279.2204061\n",
      "Malaysia ---> 5345.213415\n",
      "Mexico ---> 6288.25324\n",
      "Morocco ---> 1908.304416\n",
      "Nepal ---> 274.8728621\n",
      "New Zealand ---> 14646.42094\n",
      "Norway ---> 40034.85063\n",
      "Pakistan ---> 672.1547506\n",
      "Peru ---> 3359.517402\n",
      "Qatar ---> 36152.66676\n",
      "Russia ---> 3054.727742\n",
      "Singapore ---> 33529.83052\n",
      "South Africa ---> 3825.093781\n",
      "Spain ---> 15428.32098\n",
      "Sweden ---> 33630.24604\n",
      "Switzerland ---> 39170.41371\n",
      "Thailand ---> 2699.123242\n",
      "United Arab Emirates ---> 21058.43643\n",
      "United Kingdom ---> 28272.40661\n",
      "United States ---> 37691.02733\n",
      "Uruguay ---> 9581.05659\n",
      "Venezuela ---> 5671.912202\n",
      "Vietnam ---> 757.4009286\n",
      "Zimbabwe ---> 347.7456605\n"
     ]
    }
   ],
   "source": [
    "for i in range (len(List_of_countries)):\n",
    "    country = np_Countries[i]\n",
    "    GDP = np_GDP[i]\n",
    "    print('{} ---> {}'.format(country,GDP))"
   ]
  },
  {
   "cell_type": "code",
   "execution_count": 34,
   "metadata": {},
   "outputs": [],
   "source": [
    "max_GDP = np.amax(np_GDP)\n",
    "min_GDP = np.amin(np_GDP)\n",
    "mean_GDP = np.mean(np_GDP)\n",
    "std_GDP = np.std(np_GDP)\n",
    "sum_GDP = np.sum(np_GDP)"
   ]
  },
  {
   "cell_type": "code",
   "execution_count": 35,
   "metadata": {},
   "outputs": [
    {
     "name": "stdout",
     "output_type": "stream",
     "text": [
      "Max_GPP - 40034.85063, Min_GDP - 229.6769525, Mean_GDP - 11289.409271639683, Std_GDP - 12743.828910617945, Sum_GDP - 711232.7841133\n"
     ]
    }
   ],
   "source": [
    "print('Max_GPP - {}, Min_GDP - {}, Mean_GDP - {}, Std_GDP - {}, Sum_GDP - {}'.format(max_GDP,min_GDP,mean_GDP,std_GDP,sum_GDP))"
   ]
  },
  {
   "cell_type": "code",
   "execution_count": null,
   "metadata": {},
   "outputs": [],
   "source": []
  },
  {
   "cell_type": "code",
   "execution_count": null,
   "metadata": {},
   "outputs": [],
   "source": []
  }
 ],
 "metadata": {
  "kernelspec": {
   "display_name": "Python 3",
   "language": "python",
   "name": "python3"
  },
  "language_info": {
   "codemirror_mode": {
    "name": "ipython",
    "version": 3
   },
   "file_extension": ".py",
   "mimetype": "text/x-python",
   "name": "python",
   "nbconvert_exporter": "python",
   "pygments_lexer": "ipython3",
   "version": "3.6.5"
  }
 },
 "nbformat": 4,
 "nbformat_minor": 2
}
