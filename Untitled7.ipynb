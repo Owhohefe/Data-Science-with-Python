{
 "cells": [
  {
   "cell_type": "code",
   "execution_count": 1,
   "metadata": {},
   "outputs": [],
   "source": [
    "import numpy as np"
   ]
  },
  {
   "cell_type": "code",
   "execution_count": 2,
   "metadata": {},
   "outputs": [],
   "source": [
    "List_of_Countries = ['Great Britain','China','Russia','United States','Korea','Japan','Germany']\n",
    "gold_Medal = [29,38,24,46,13,7,11]\n",
    "silver_Medal = [17,28,25,28,8,14,11]\n",
    "bronze_Medal = [19,22,32,29,7,17,14]"
   ]
  },
  {
   "cell_type": "code",
   "execution_count": 7,
   "metadata": {},
   "outputs": [],
   "source": [
    "np_countries = np.array(List_of_Countries)\n",
    "np_gold = np.array(gold_Medal)\n",
    "np_silver = np.array(silver_Medal)\n",
    "np_bronze = np.array(bronze_Medal)"
   ]
  },
  {
   "cell_type": "code",
   "execution_count": 4,
   "metadata": {},
   "outputs": [
    {
     "data": {
      "text/plain": [
       "'United States'"
      ]
     },
     "execution_count": 4,
     "metadata": {},
     "output_type": "execute_result"
    }
   ],
   "source": [
    "country_Max_Gold = np.argmax(np_gold)\n",
    "np_countries[country_Max_Gold]"
   ]
  },
  {
   "cell_type": "code",
   "execution_count": 6,
   "metadata": {},
   "outputs": [
    {
     "data": {
      "text/plain": [
       "array(['Great Britain', 'China', 'Russia', 'United States'], dtype='<U13')"
      ]
     },
     "execution_count": 6,
     "metadata": {},
     "output_type": "execute_result"
    }
   ],
   "source": [
    "above_20_gold = np_gold>20\n",
    "np_countries[above_20_gold]"
   ]
  },
  {
   "cell_type": "code",
   "execution_count": 10,
   "metadata": {},
   "outputs": [
    {
     "name": "stdout",
     "output_type": "stream",
     "text": [
      "Great Britain - 29 Gold, 17 Silver, 19 Bronze\n",
      "China - 38 Gold, 28 Silver, 22 Bronze\n",
      "Russia - 24 Gold, 25 Silver, 32 Bronze\n",
      "United States - 46 Gold, 28 Silver, 29 Bronze\n",
      "Korea - 13 Gold, 8 Silver, 7 Bronze\n",
      "Japan - 7 Gold, 14 Silver, 17 Bronze\n",
      "Germany - 11 Gold, 11 Silver, 14 Bronze\n"
     ]
    }
   ],
   "source": [
    "for i in range (len(List_of_Countries)):\n",
    "    country = np_countries[i]\n",
    "    gold = np_gold[i]\n",
    "    silver = np_silver[i]\n",
    "    bronze = np_bronze[i]\n",
    "    print('{} - {} Gold, {} Silver, {} Bronze'.format(country,gold,silver,bronze))"
   ]
  },
  {
   "cell_type": "code",
   "execution_count": 11,
   "metadata": {},
   "outputs": [
    {
     "name": "stdout",
     "output_type": "stream",
     "text": [
      "Great Britain - 29\n",
      "China - 38\n",
      "Russia - 24\n",
      "United States - 46\n",
      "Korea - 13\n",
      "Japan - 7\n",
      "Germany - 11\n"
     ]
    }
   ],
   "source": [
    "for i in range (len(List_of_Countries)):\n",
    "    country = np_countries[i]\n",
    "    gold = np_gold[i]\n",
    "    print('{} - {}'.format(country,gold))"
   ]
  },
  {
   "cell_type": "code",
   "execution_count": 12,
   "metadata": {},
   "outputs": [
    {
     "name": "stdout",
     "output_type": "stream",
     "text": [
      "Great Britain - 65 medals won\n",
      "China - 88 medals won\n",
      "Russia - 81 medals won\n",
      "United States - 103 medals won\n",
      "Korea - 28 medals won\n",
      "Japan - 38 medals won\n",
      "Germany - 36 medals won\n"
     ]
    }
   ],
   "source": [
    "for i in range (len(List_of_Countries)):\n",
    "    country = np_countries[i]\n",
    "    gold = np_gold[i]\n",
    "    silver = np_silver[i]\n",
    "    bronze = np_bronze[i]\n",
    "    total = gold + silver + bronze\n",
    "    print('{} - {} medals won'.format(country,total))"
   ]
  },
  {
   "cell_type": "code",
   "execution_count": null,
   "metadata": {},
   "outputs": [],
   "source": []
  }
 ],
 "metadata": {
  "kernelspec": {
   "display_name": "Python 3",
   "language": "python",
   "name": "python3"
  },
  "language_info": {
   "codemirror_mode": {
    "name": "ipython",
    "version": 3
   },
   "file_extension": ".py",
   "mimetype": "text/x-python",
   "name": "python",
   "nbconvert_exporter": "python",
   "pygments_lexer": "ipython3",
   "version": "3.6.5"
  }
 },
 "nbformat": 4,
 "nbformat_minor": 2
}
